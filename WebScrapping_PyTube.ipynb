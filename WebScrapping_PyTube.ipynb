{
  "nbformat": 4,
  "nbformat_minor": 0,
  "metadata": {
    "colab": {
      "provenance": []
    },
    "kernelspec": {
      "name": "python3",
      "display_name": "Python 3"
    },
    "language_info": {
      "name": "python"
    }
  },
  "cells": [
    {
      "cell_type": "code",
      "execution_count": 1,
      "metadata": {
        "id": "udfdewEeQkEx"
      },
      "outputs": [],
      "source": [
        "# 1. Program to fetch hyperlinks from any website entered by the user\n",
        "import requests\n",
        "from bs4 import BeautifulSoup"
      ]
    },
    {
      "cell_type": "code",
      "source": [
        "def fetch_hyperlinks(url):\n",
        "    response = requests.get(url)\n",
        "    soup = BeautifulSoup(response.text, 'html.parser')\n",
        "    links = [a['href'] for a in soup.find_all('a', href=True)]\n",
        "    return links"
      ],
      "metadata": {
        "id": "A5zHi5X6QklL"
      },
      "execution_count": 2,
      "outputs": []
    },
    {
      "cell_type": "code",
      "source": [
        "# Example usage\n",
        "url = input(\"Enter a website URL: \")\n",
        "print(fetch_hyperlinks(url))"
      ],
      "metadata": {
        "colab": {
          "base_uri": "https://localhost:8080/"
        },
        "id": "bXjDwkSXQkoA",
        "outputId": "94b5dab3-a316-43a0-e691-7fb96b2d5b51"
      },
      "execution_count": 5,
      "outputs": [
        {
          "output_type": "stream",
          "name": "stdout",
          "text": [
            "Enter a website URL: https://www.educative.io/answers/what-is-astliteralevalnodeorstring-in-python\n",
            "['/', 'https://www.devpath.com/learn-product', 'https://www.devpath.com/work-product', '/blog', 'https://www.youtube.com/@Educativeinc', '/answers', '/', 'https://www.devpath.com/learn-product', 'https://www.devpath.com/work-product', '/blog', 'https://www.youtube.com/@Educativeinc', '/answers', 'https://creativecommons.org/licenses/by-sa/4.0/', '/', '/explore', '/paths', '/projects', '/assessments', '/learn-to-code', '/interview', '/data-science', '/github-students', '/explore/early-access', '/catalog', '/unlimited', '/trial', 'https://educative.io/m/become-an-educative-author', '/affiliate', '/refer-a-friend', '/blog', 'https://www.youtube.com/@Educativeinc', '/answers', '/team', '/careers', '/courses/educative-faq', '/contactUs', '/press', '/privacy', '/cookie-policy', '/terms', '/enterprise-terms', '/data-processing-agreement', '//facebook.com/educativeinc', '//linkedin.com/company/educative-inc/', '//twitter.com/educativeinc', '//www.youtube.com/channel/UCT_8FqzTIr2Q1BOtvX_DPPw/?sub_confirmation=1', '//educativesessions.podbean.com']\n"
          ]
        }
      ]
    },
    {
      "cell_type": "code",
      "source": [
        "# 3. Web Scraping with BeautifulSoup\n",
        "html_content = '''\n",
        "<html>\n",
        "<head>\n",
        "<title>Page title</title>\n",
        "</head>\n",
        "<body>\n",
        "<p id=\"firstpara\" align=\"center\">This is paragraph <b>one</b></p>\n",
        "<p id=\"secondpara\" align=\"blah\">This is paragraph <b>two</b></p>\n",
        "</body>\n",
        "</html>\n",
        "'''"
      ],
      "metadata": {
        "id": "4ExfuznLQkq0"
      },
      "execution_count": 8,
      "outputs": []
    },
    {
      "cell_type": "code",
      "source": [
        "def web_scraping(html_content):\n",
        "    soup = BeautifulSoup(html_content, 'html.parser')\n",
        "    # a) Read the page and show it in a well-formatted indented manner\n",
        "    print(soup.prettify())\n",
        "\n",
        "    # b) Print the b tag from the page\n",
        "    print(soup.find_all('b'))\n",
        "\n",
        "    # c) Print all the tags that start from b\n",
        "    print([tag.name for tag in soup.find_all(True) if tag.name.startswith('b')])\n",
        "\n",
        "    # d) Print text from the tags having title and p\n",
        "    print(soup.title.string)\n",
        "    print([p.get_text() for p in soup.find_all('p')])\n",
        "\n",
        "    # e) More tasks as per assignment (e.g., using dictionaries, printing specific tags)"
      ],
      "metadata": {
        "id": "igf1VivcRRdV"
      },
      "execution_count": 6,
      "outputs": []
    },
    {
      "cell_type": "code",
      "source": [
        "# Example usage\n",
        "web_scraping(html_content)"
      ],
      "metadata": {
        "colab": {
          "base_uri": "https://localhost:8080/"
        },
        "id": "NfU3SXBXRRf1",
        "outputId": "cf4d0e9f-5e27-4070-c58a-8970a3317552"
      },
      "execution_count": 9,
      "outputs": [
        {
          "output_type": "stream",
          "name": "stdout",
          "text": [
            "<html>\n",
            " <head>\n",
            "  <title>\n",
            "   Page title\n",
            "  </title>\n",
            " </head>\n",
            " <body>\n",
            "  <p align=\"center\" id=\"firstpara\">\n",
            "   This is paragraph\n",
            "   <b>\n",
            "    one\n",
            "   </b>\n",
            "  </p>\n",
            "  <p align=\"blah\" id=\"secondpara\">\n",
            "   This is paragraph\n",
            "   <b>\n",
            "    two\n",
            "   </b>\n",
            "  </p>\n",
            " </body>\n",
            "</html>\n",
            "\n",
            "[<b>one</b>, <b>two</b>]\n",
            "['body', 'b', 'b']\n",
            "Page title\n",
            "['This is paragraph one', 'This is paragraph two']\n"
          ]
        }
      ]
    },
    {
      "cell_type": "code",
      "source": [
        "!pip install pytube\n"
      ],
      "metadata": {
        "colab": {
          "base_uri": "https://localhost:8080/"
        },
        "id": "vSus5dfsRRiO",
        "outputId": "4a0a4454-5c17-48da-c3f0-60853b3a28be"
      },
      "execution_count": 10,
      "outputs": [
        {
          "output_type": "stream",
          "name": "stdout",
          "text": [
            "Collecting pytube\n",
            "  Downloading pytube-15.0.0-py3-none-any.whl (57 kB)\n",
            "\u001b[?25l     \u001b[90m━━━━━━━━━━━━━━━━━━━━━━━━━━━━━━━━━━━━━━━━\u001b[0m \u001b[32m0.0/57.6 kB\u001b[0m \u001b[31m?\u001b[0m eta \u001b[36m-:--:--\u001b[0m\r\u001b[2K     \u001b[90m━━━━━━━━━━━━━━━━━━━━━━━━━━━━━━━━━━━━━━━━\u001b[0m \u001b[32m57.6/57.6 kB\u001b[0m \u001b[31m1.8 MB/s\u001b[0m eta \u001b[36m0:00:00\u001b[0m\n",
            "\u001b[?25hInstalling collected packages: pytube\n",
            "Successfully installed pytube-15.0.0\n"
          ]
        }
      ]
    },
    {
      "cell_type": "code",
      "source": [
        "from pytube import YouTube"
      ],
      "metadata": {
        "id": "P6afcPbeRRkx"
      },
      "execution_count": 11,
      "outputs": []
    },
    {
      "cell_type": "code",
      "source": [
        "def download_youtube_video(url, save_path):\n",
        "    try:\n",
        "        # Create YouTube object\n",
        "        yt = YouTube(url)\n",
        "\n",
        "        # Get the highest resolution stream\n",
        "        video_stream = yt.streams.get_highest_resolution()\n",
        "\n",
        "        # Download the video\n",
        "        video_stream.download(save_path)\n",
        "        print(f\"Video downloaded successfully: {yt.title}\")\n",
        "    except Exception as e:\n",
        "        print(f\"Error downloading video: {e}\")"
      ],
      "metadata": {
        "id": "17dqEls9RRnO"
      },
      "execution_count": 12,
      "outputs": []
    },
    {
      "cell_type": "code",
      "source": [
        "# Example usage\n",
        "url = 'https://www.youtube.com/watch?v=Le-A72NjaWs'\n",
        "save_path = '/content/sample_data/'\n",
        "download_youtube_video(url, save_path)"
      ],
      "metadata": {
        "colab": {
          "base_uri": "https://localhost:8080/"
        },
        "id": "WDgr4pksTMHg",
        "outputId": "b5019026-9d1e-4c35-eee8-1172723cce70"
      },
      "execution_count": 14,
      "outputs": [
        {
          "output_type": "stream",
          "name": "stdout",
          "text": [
            "Video downloaded successfully: End To End Machine Learning Project Implementation Using AWS Sagemaker\n"
          ]
        }
      ]
    },
    {
      "cell_type": "code",
      "source": [],
      "metadata": {
        "id": "7mZ9GDKLTMQA"
      },
      "execution_count": null,
      "outputs": []
    },
    {
      "cell_type": "code",
      "source": [],
      "metadata": {
        "id": "zzrF7k70TMSe"
      },
      "execution_count": null,
      "outputs": []
    }
  ]
}